{
 "cells": [
  {
   "cell_type": "markdown",
   "metadata": {},
   "source": [
    "# Produce javascript files from `777/` folder\n",
    "\n",
    "Produce `777.js`, such that I can do the following:\n",
    "\n",
    "```javascript\n",
    "import _777 from './777/'\n",
    "\n",
    "const render_markdown = () => {\n",
    "\tconst air_explanation = _777.air;\n",
    "\treturn <MarkdownComponent md={air_explanation} />\n",
    "}\n",
    "\n",
    "```"
   ]
  },
  {
   "cell_type": "code",
   "execution_count": 59,
   "metadata": {},
   "outputs": [],
   "source": [
    "import os\n",
    "import json\n",
    "\n",
    "def scan_directory(directory, collection):\n",
    "\t\"\"\" Scan provided directory for markdown files, and read them into collection\n",
    "\t\tusing the filename (without extension) as key\n",
    "\n",
    "\t\tReturns a dictionary\n",
    "\t\"\"\"\n",
    "\tfor file in os.listdir(directory):\n",
    "\t\tfilename = os.fsdecode(file)\n",
    "\t\tif filename.endswith(\".md\"):\n",
    "\t\t\tpath = os.path.join(directory, filename)\n",
    "\n",
    "\t\t\twith open(path) as f:\n",
    "\n",
    "\t\t\t\t# read markdown\n",
    "\t\t\t\tmd = f.read()\n",
    "\n",
    "\t\t\t\t# read name of file without extension\n",
    "\t\t\t\tkey = filename.split('.')[0]\n",
    "\n",
    "\t\t\t\t# assign markdown to object\n",
    "\t\t\t\tcollection[key] = md\n",
    "\t\t\tcontinue\n",
    "\t\telse:\n",
    "\t\t\tcontinue"
   ]
  },
  {
   "cell_type": "code",
   "execution_count": 60,
   "metadata": {},
   "outputs": [],
   "source": [
    "markdowns = {}\n",
    "\n",
    "# read directories\n",
    "scan_directory('./777/elements', markdowns)\n",
    "scan_directory('./777/planets', markdowns)\n",
    "\n",
    "# dump markdowns to javascript\n",
    "js_dump = json.dumps(markdowns, indent=4)\n",
    "\n",
    "# write importable javascript file\n",
    "filehandle = open('777.js', 'w')\n",
    "filehandle.write(f'export default {js_dump}')\n",
    "filehandle.close()"
   ]
  },
  {
   "cell_type": "code",
   "execution_count": null,
   "metadata": {},
   "outputs": [],
   "source": []
  }
 ],
 "metadata": {
  "kernelspec": {
   "display_name": "Python 3.6.9 ('drlnd')",
   "language": "python",
   "name": "python3"
  },
  "language_info": {
   "codemirror_mode": {
    "name": "ipython",
    "version": 3
   },
   "file_extension": ".py",
   "mimetype": "text/x-python",
   "name": "python",
   "nbconvert_exporter": "python",
   "pygments_lexer": "ipython3",
   "version": "3.6.9"
  },
  "orig_nbformat": 4,
  "vscode": {
   "interpreter": {
    "hash": "dae120841de439fd72006435c56da5e91fd4f53461ba3316451d0521924be474"
   }
  }
 },
 "nbformat": 4,
 "nbformat_minor": 2
}
